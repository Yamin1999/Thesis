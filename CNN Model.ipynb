{
 "cells": [
  {
   "cell_type": "code",
   "execution_count": 1,
   "metadata": {},
   "outputs": [],
   "source": [
    "import numpy as np\n",
    "np.random.seed(1000)\n",
    "import pandas as pd\n",
    "import matplotlib.pyplot as plt\n",
    "%matplotlib inline\n",
    "\n",
    "from sklearn.model_selection import train_test_split"
   ]
  },
  {
   "cell_type": "code",
   "execution_count": 2,
   "metadata": {},
   "outputs": [],
   "source": [
    "import keras\n",
    "from keras.layers import Convolution2D, MaxPooling2D, Flatten, Dense, BatchNormalization, Dropout\n",
    "from keras.models import Sequential"
   ]
  },
  {
   "cell_type": "code",
   "execution_count": 3,
   "metadata": {},
   "outputs": [],
   "source": [
    "import os\n",
    "import cv2\n",
    "from PIL import Image"
   ]
  },
  {
   "cell_type": "code",
   "execution_count": 15,
   "metadata": {},
   "outputs": [],
   "source": [
    "from tensorflow.keras.preprocessing.image import ImageDataGenerator\n",
    "from tensorflow.keras.callbacks import EarlyStopping"
   ]
  },
  {
   "cell_type": "code",
   "execution_count": 4,
   "metadata": {},
   "outputs": [],
   "source": [
    "DATA_DIR = 'E:\\Thesis 4100\\Malaria_Cell_Detection\\Malaria_Detection_using_CNN\\cell_images\\cell_images/'\n",
    "SIZE = 64\n",
    "dataset = []\n",
    "label = []"
   ]
  },
  {
   "cell_type": "code",
   "execution_count": 5,
   "metadata": {},
   "outputs": [],
   "source": [
    "parasitized_images = os.listdir(DATA_DIR + 'Parasitized/')\n",
    "for i, image_name in enumerate(parasitized_images):\n",
    "    try:\n",
    "        if (image_name.split('.')[1] == 'png'):\n",
    "            image = cv2.imread(DATA_DIR + 'Parasitized/' + image_name)\n",
    "            image = Image.fromarray(image, 'RGB')\n",
    "            image = image.resize((SIZE, SIZE))\n",
    "            dataset.append(np.array(image))\n",
    "            label.append(0)\n",
    "    except Exception:\n",
    "        print(\"Could not read image {} with name {}\".format(i, image_name))"
   ]
  },
  {
   "cell_type": "code",
   "execution_count": 6,
   "metadata": {},
   "outputs": [],
   "source": [
    "uninfected_images = os.listdir(DATA_DIR + 'Uninfected/')\n",
    "for i, image_name in enumerate(uninfected_images):\n",
    "    try:\n",
    "        if (image_name.split('.')[1] == 'png'):\n",
    "            image = cv2.imread(DATA_DIR + 'Uninfected/' + image_name)\n",
    "            image = Image.fromarray(image, 'RGB')\n",
    "            image = image.resize((SIZE, SIZE))\n",
    "            dataset.append(np.array(image))\n",
    "            label.append(1)\n",
    "    except Exception:\n",
    "        print(\"Could not read image {} with name {}\".format(i, image_name))"
   ]
  },
  {
   "cell_type": "code",
   "execution_count": null,
   "metadata": {},
   "outputs": [],
   "source": []
  },
  {
   "cell_type": "code",
   "execution_count": 16,
   "metadata": {},
   "outputs": [
    {
     "name": "stdout",
     "output_type": "stream",
     "text": [
      "Found 22048 images belonging to 2 classes.\n"
     ]
    }
   ],
   "source": [
    "datagen = ImageDataGenerator(rescale=1/255.0,\n",
    "                            shear_range = 0.2,\n",
    "                            horizontal_flip = True,\n",
    "                            zoom_range = 0.2,\n",
    "                            validation_split=0.2)\n",
    "\n",
    "train_data_generator = datagen.flow_from_directory(directory = 'E:\\Thesis 4100\\Malaria_Cell_Detection\\Malaria_Detection_using_CNN\\cell_images\\cell_images/',\n",
    "                                                   target_size=(64,64),\n",
    "                                                   class_mode = 'categorical',\n",
    "                                                   batch_size=64,\n",
    "                                                   subset='training'\n",
    "                                                  )"
   ]
  },
  {
   "cell_type": "code",
   "execution_count": 18,
   "metadata": {},
   "outputs": [
    {
     "name": "stdout",
     "output_type": "stream",
     "text": [
      "Found 5510 images belonging to 2 classes.\n"
     ]
    }
   ],
   "source": [
    "validation_data_generator = datagen.flow_from_directory('E:\\Thesis 4100\\Malaria_Cell_Detection\\Malaria_Detection_using_CNN\\cell_images\\cell_images/',\n",
    "                                            target_size = (64, 64),\n",
    "                                            batch_size = 64,\n",
    "                                            class_mode = 'categorical',\n",
    "                                            subset='validation')"
   ]
  },
  {
   "cell_type": "code",
   "execution_count": 10,
   "metadata": {},
   "outputs": [],
   "source": [
    "image_shape = [64,64]"
   ]
  },
  {
   "cell_type": "code",
   "execution_count": 12,
   "metadata": {},
   "outputs": [],
   "source": [
    "network = Sequential()\n",
    "\n",
    "network.add(Convolution2D(filters=16,kernel_size = (3,3),activation='relu',input_shape=image_shape+[3]))\n",
    "network.add(MaxPooling2D(2,2))\n",
    "\n",
    "\n",
    "network.add(Convolution2D(filters=32,kernel_size = (3,3),activation='relu'))\n",
    "network.add(MaxPooling2D(2,2))\n",
    "\n",
    "network.add(Convolution2D(filters=64,kernel_size = (3,3),activation='relu'))\n",
    "network.add(MaxPooling2D(2,2))\n",
    "\n",
    "network.add(Dropout(0.2))\n",
    "\n",
    "network.add(Flatten())\n",
    "\n",
    "\n",
    "network.add(Dense(200,activation = 'relu'))\n",
    "\n",
    "network.add(Dropout(0.5))\n",
    "\n",
    "network.add(Dense(2,activation = 'softmax'))"
   ]
  },
  {
   "cell_type": "code",
   "execution_count": 13,
   "metadata": {},
   "outputs": [],
   "source": [
    "network.compile(\n",
    "  loss='binary_crossentropy',\n",
    "  optimizer='adam',\n",
    "  metrics=['accuracy']\n",
    ")"
   ]
  },
  {
   "cell_type": "code",
   "execution_count": 19,
   "metadata": {},
   "outputs": [
    {
     "name": "stderr",
     "output_type": "stream",
     "text": [
      "C:\\Users\\User\\AppData\\Local\\Temp\\ipykernel_6840\\1950320386.py:1: UserWarning: `Model.fit_generator` is deprecated and will be removed in a future version. Please use `Model.fit`, which supports generators.\n",
      "  r = network.fit_generator(\n"
     ]
    },
    {
     "name": "stdout",
     "output_type": "stream",
     "text": [
      "Epoch 1/50\n",
      "345/345 [==============================] - 299s 864ms/step - loss: 0.5377 - accuracy: 0.7127 - val_loss: 0.2632 - val_accuracy: 0.9205\n",
      "Epoch 2/50\n",
      "345/345 [==============================] - 119s 345ms/step - loss: 0.1838 - accuracy: 0.9417 - val_loss: 0.1749 - val_accuracy: 0.9407\n",
      "Epoch 3/50\n",
      "345/345 [==============================] - 156s 452ms/step - loss: 0.1576 - accuracy: 0.9507 - val_loss: 0.1683 - val_accuracy: 0.9419\n",
      "Epoch 4/50\n",
      "345/345 [==============================] - 126s 366ms/step - loss: 0.1476 - accuracy: 0.9537 - val_loss: 0.1629 - val_accuracy: 0.9443\n",
      "Epoch 5/50\n",
      "345/345 [==============================] - 120s 347ms/step - loss: 0.1403 - accuracy: 0.9555 - val_loss: 0.1619 - val_accuracy: 0.9423\n",
      "Epoch 6/50\n",
      "345/345 [==============================] - 120s 347ms/step - loss: 0.1376 - accuracy: 0.9565 - val_loss: 0.1556 - val_accuracy: 0.9448\n",
      "Epoch 7/50\n",
      "345/345 [==============================] - 163s 473ms/step - loss: 0.1330 - accuracy: 0.9582 - val_loss: 0.1643 - val_accuracy: 0.9452\n",
      "Epoch 8/50\n",
      "345/345 [==============================] - 123s 356ms/step - loss: 0.1272 - accuracy: 0.9587 - val_loss: 0.1694 - val_accuracy: 0.9457\n",
      "Epoch 9/50\n",
      "345/345 [==============================] - 124s 359ms/step - loss: 0.1247 - accuracy: 0.9595 - val_loss: 0.1591 - val_accuracy: 0.9479\n",
      "Epoch 10/50\n",
      "345/345 [==============================] - 123s 357ms/step - loss: 0.1254 - accuracy: 0.9595 - val_loss: 0.1680 - val_accuracy: 0.9414\n",
      "Epoch 11/50\n",
      "345/345 [==============================] - 125s 362ms/step - loss: 0.1232 - accuracy: 0.9604 - val_loss: 0.1484 - val_accuracy: 0.9477\n",
      "Epoch 12/50\n",
      "345/345 [==============================] - 122s 353ms/step - loss: 0.1194 - accuracy: 0.9601 - val_loss: 0.1575 - val_accuracy: 0.9446\n",
      "Epoch 13/50\n",
      "345/345 [==============================] - 120s 349ms/step - loss: 0.1225 - accuracy: 0.9600 - val_loss: 0.1449 - val_accuracy: 0.9479\n",
      "Epoch 14/50\n",
      "345/345 [==============================] - 121s 350ms/step - loss: 0.1171 - accuracy: 0.9606 - val_loss: 0.1531 - val_accuracy: 0.9485\n",
      "Epoch 15/50\n",
      "345/345 [==============================] - 121s 351ms/step - loss: 0.1155 - accuracy: 0.9625 - val_loss: 0.1588 - val_accuracy: 0.9463\n",
      "Epoch 16/50\n",
      "345/345 [==============================] - 124s 360ms/step - loss: 0.1165 - accuracy: 0.9620 - val_loss: 0.1595 - val_accuracy: 0.9474\n",
      "Epoch 17/50\n",
      "345/345 [==============================] - 142s 404ms/step - loss: 0.1115 - accuracy: 0.9615 - val_loss: 0.1536 - val_accuracy: 0.9481\n",
      "Epoch 18/50\n",
      "345/345 [==============================] - 142s 413ms/step - loss: 0.1142 - accuracy: 0.9613 - val_loss: 0.1484 - val_accuracy: 0.9492\n",
      "Epoch 19/50\n",
      "345/345 [==============================] - 152s 442ms/step - loss: 0.1148 - accuracy: 0.9616 - val_loss: 0.1441 - val_accuracy: 0.9475\n",
      "Epoch 20/50\n",
      "345/345 [==============================] - 142s 411ms/step - loss: 0.1098 - accuracy: 0.9632 - val_loss: 0.1400 - val_accuracy: 0.9492\n",
      "Epoch 21/50\n",
      "345/345 [==============================] - 143s 414ms/step - loss: 0.1084 - accuracy: 0.9631 - val_loss: 0.1647 - val_accuracy: 0.9503\n",
      "Epoch 22/50\n",
      "345/345 [==============================] - 167s 484ms/step - loss: 0.1095 - accuracy: 0.9631 - val_loss: 0.1543 - val_accuracy: 0.9481\n",
      "Epoch 23/50\n",
      "345/345 [==============================] - 151s 433ms/step - loss: 0.1084 - accuracy: 0.9622 - val_loss: 0.1640 - val_accuracy: 0.9481\n",
      "Epoch 24/50\n",
      "345/345 [==============================] - 142s 411ms/step - loss: 0.1071 - accuracy: 0.9633 - val_loss: 0.1529 - val_accuracy: 0.9479\n",
      "Epoch 25/50\n",
      "345/345 [==============================] - 156s 452ms/step - loss: 0.1085 - accuracy: 0.9640 - val_loss: 0.1405 - val_accuracy: 0.9512\n",
      "Epoch 26/50\n",
      "345/345 [==============================] - 122s 353ms/step - loss: 0.1059 - accuracy: 0.9636 - val_loss: 0.1434 - val_accuracy: 0.9497\n",
      "Epoch 27/50\n",
      "345/345 [==============================] - 126s 364ms/step - loss: 0.1055 - accuracy: 0.9640 - val_loss: 0.1487 - val_accuracy: 0.9497\n",
      "Epoch 28/50\n",
      "345/345 [==============================] - 120s 348ms/step - loss: 0.1029 - accuracy: 0.9661 - val_loss: 0.1536 - val_accuracy: 0.9474\n",
      "Epoch 29/50\n",
      "345/345 [==============================] - 124s 360ms/step - loss: 0.1034 - accuracy: 0.9646 - val_loss: 0.1452 - val_accuracy: 0.9512\n",
      "Epoch 30/50\n",
      "345/345 [==============================] - 120s 348ms/step - loss: 0.1018 - accuracy: 0.9654 - val_loss: 0.1371 - val_accuracy: 0.9501\n",
      "Epoch 31/50\n",
      "345/345 [==============================] - 119s 346ms/step - loss: 0.1016 - accuracy: 0.9650 - val_loss: 0.1584 - val_accuracy: 0.9494\n",
      "Epoch 32/50\n",
      "345/345 [==============================] - 119s 346ms/step - loss: 0.1006 - accuracy: 0.9651 - val_loss: 0.1481 - val_accuracy: 0.9475\n",
      "Epoch 33/50\n",
      "345/345 [==============================] - 119s 345ms/step - loss: 0.0996 - accuracy: 0.9655 - val_loss: 0.1515 - val_accuracy: 0.9477\n",
      "Epoch 34/50\n",
      "345/345 [==============================] - 187s 542ms/step - loss: 0.0992 - accuracy: 0.9663 - val_loss: 0.1417 - val_accuracy: 0.9517\n",
      "Epoch 35/50\n",
      "345/345 [==============================] - 153s 443ms/step - loss: 0.1033 - accuracy: 0.9656 - val_loss: 0.1491 - val_accuracy: 0.9452\n",
      "Epoch 36/50\n",
      "345/345 [==============================] - 156s 453ms/step - loss: 0.1002 - accuracy: 0.9658 - val_loss: 0.1495 - val_accuracy: 0.9479\n",
      "Epoch 37/50\n",
      "345/345 [==============================] - 137s 396ms/step - loss: 0.0998 - accuracy: 0.9662 - val_loss: 0.1509 - val_accuracy: 0.9463\n",
      "Epoch 38/50\n",
      "345/345 [==============================] - 160s 464ms/step - loss: 0.0968 - accuracy: 0.9669 - val_loss: 0.1574 - val_accuracy: 0.9477\n",
      "Epoch 39/50\n",
      "345/345 [==============================] - 129s 373ms/step - loss: 0.0976 - accuracy: 0.9666 - val_loss: 0.1501 - val_accuracy: 0.9505\n",
      "Epoch 40/50\n",
      "345/345 [==============================] - 140s 406ms/step - loss: 0.0957 - accuracy: 0.9672 - val_loss: 0.1463 - val_accuracy: 0.9506\n",
      "Epoch 41/50\n",
      "345/345 [==============================] - 135s 392ms/step - loss: 0.0926 - accuracy: 0.9678 - val_loss: 0.1418 - val_accuracy: 0.9508\n",
      "Epoch 42/50\n",
      "345/345 [==============================] - 127s 367ms/step - loss: 0.0958 - accuracy: 0.9666 - val_loss: 0.1482 - val_accuracy: 0.9505\n",
      "Epoch 43/50\n",
      "345/345 [==============================] - 148s 429ms/step - loss: 0.0917 - accuracy: 0.9669 - val_loss: 0.1475 - val_accuracy: 0.9514\n",
      "Epoch 44/50\n",
      "345/345 [==============================] - 123s 356ms/step - loss: 0.0943 - accuracy: 0.9683 - val_loss: 0.1380 - val_accuracy: 0.9526\n",
      "Epoch 45/50\n",
      "345/345 [==============================] - 119s 346ms/step - loss: 0.0925 - accuracy: 0.9678 - val_loss: 0.1455 - val_accuracy: 0.9481\n",
      "Epoch 46/50\n",
      "345/345 [==============================] - 120s 347ms/step - loss: 0.0942 - accuracy: 0.9676 - val_loss: 0.1376 - val_accuracy: 0.9495\n",
      "Epoch 47/50\n",
      "345/345 [==============================] - 117s 339ms/step - loss: 0.0929 - accuracy: 0.9678 - val_loss: 0.1554 - val_accuracy: 0.9503\n",
      "Epoch 48/50\n",
      "345/345 [==============================] - 140s 408ms/step - loss: 0.0899 - accuracy: 0.9690 - val_loss: 0.1510 - val_accuracy: 0.9512\n",
      "Epoch 49/50\n",
      "345/345 [==============================] - 122s 354ms/step - loss: 0.0931 - accuracy: 0.9677 - val_loss: 0.1544 - val_accuracy: 0.9505\n",
      "Epoch 50/50\n",
      "345/345 [==============================] - 121s 352ms/step - loss: 0.0896 - accuracy: 0.9695 - val_loss: 0.1575 - val_accuracy: 0.9481\n"
     ]
    }
   ],
   "source": [
    "r = network.fit_generator(\n",
    "  train_data_generator,\n",
    "  validation_data=validation_data_generator,\n",
    "  epochs=50,\n",
    "  steps_per_epoch=len(train_data_generator),\n",
    "  validation_steps=len(validation_data_generator)\n",
    ")"
   ]
  },
  {
   "cell_type": "code",
   "execution_count": 20,
   "metadata": {},
   "outputs": [
    {
     "data": {
      "image/png": "[encoded data removed]",
      "text/plain": [
       "<Figure size 432x288 with 1 Axes>"
      ]
     },
     "metadata": {
      "needs_background": "light"
     },
     "output_type": "display_data"
    },
    {
     "data": {
      "image/png": "[encoded data removed]",
      "text/plain": [
       "<Figure size 432x288 with 1 Axes>"
      ]
     },
     "metadata": {
      "needs_background": "light"
     },
     "output_type": "display_data"
    }
   ],
   "source": [
    "plt.plot(r.history['accuracy'],'coral')\n",
    "plt.plot(r.history['val_accuracy'],'gold')\n",
    "plt.title('Model Accuracy')\n",
    "plt.xlabel(\"Epoch\")\n",
    "plt.ylabel(\"Accuracy\")\n",
    "plt.legend(['Train','Val'],loc='upper left')\n",
    "plt.show()\n",
    "\n",
    "#Loss\n",
    "plt.plot(r.history['loss'],'coral')\n",
    "plt.plot(r.history['val_loss'],'gold')\n",
    "plt.title('Model Loss')\n",
    "plt.xlabel(\"Epoch\")\n",
    "plt.ylabel(\"Loss\")\n",
    "plt.legend(['Train','Val'],loc='upper left')\n",
    "plt.show()"
   ]
  },
  {
   "cell_type": "code",
   "execution_count": 21,
   "metadata": {},
   "outputs": [
    {
     "name": "stdout",
     "output_type": "stream",
     "text": [
      "87/87 [==============================] - 57s 647ms/step\n"
     ]
    }
   ],
   "source": [
    "y_pred = network.predict(validation_data_generator)"
   ]
  },
  {
   "cell_type": "code",
   "execution_count": null,
   "metadata": {},
   "outputs": [],
   "source": [
    "network.evaluate_generator"
   ]
  },
  {
   "cell_type": "code",
   "execution_count": 22,
   "metadata": {},
   "outputs": [],
   "source": [
    "from keras.utils import to_categorical\n",
    "\n",
    "X_train, X_test, y_train, y_test = train_test_split(dataset, to_categorical(np.array(label)), test_size = 0.20, random_state = 0)"
   ]
  },
  {
   "cell_type": "code",
   "execution_count": null,
   "metadata": {},
   "outputs": [],
   "source": []
  }
 ],
 "metadata": {
  "kernelspec": {
   "display_name": "Python 3.10.5 64-bit",
   "language": "python",
   "name": "python3"
  },
  "language_info": {
   "codemirror_mode": {
    "name": "ipython",
    "version": 3
   },
   "file_extension": ".py",
   "mimetype": "text/x-python",
   "name": "python",
   "nbconvert_exporter": "python",
   "pygments_lexer": "ipython3",
   "version": "3.10.5"
  },
  "orig_nbformat": 4,
  "vscode": {
   "interpreter": {
    "hash": "afb734500600fd355917ca529030176ea0ca205570884b88f2f6f7d791fd3fbe"
   }
  }
 },
 "nbformat": 4,
 "nbformat_minor": 2
}
